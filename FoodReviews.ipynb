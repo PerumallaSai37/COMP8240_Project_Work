{
 "cells": [
  {
   "cell_type": "markdown",
   "id": "148c6065",
   "metadata": {},
   "source": [
    "## Food Reviews Dataset"
   ]
  },
  {
   "cell_type": "markdown",
   "id": "709338d7",
   "metadata": {},
   "source": [
    "The dataset contains Food review and Food recipe which was taken from Food.com website.\n",
    "<br>\n",
    "The dataset is used in following paper: \n",
    "<li>Generating Personalized Recipes from Historical User Preferences\n",
    "Bodhisattwa Prasad Majumder*, Shuyang Li*, Jianmo Ni, Julian McAuley\n",
    "EMNLP, 2019.</li>\n",
    "<br>\n",
    "From the dataset used in this paper, we will be considered only review ratings dataset from food.com dataset.\n",
    "<li>The dataset is downloaded from the link</li> https://www.kaggle.com/shuyangli94/food-com-recipes-and-user-interactions?select=RAW_interactions.csv"
   ]
  },
  {
   "cell_type": "code",
   "execution_count": 1,
   "id": "b61654bd",
   "metadata": {},
   "outputs": [],
   "source": [
    "import pandas as pd\n",
    "import numpy as np\n",
    "import fasttext\n",
    "import os\n",
    "import matplotlib.pyplot as plt\n",
    "import seaborn as sns\n",
    "import csv\n",
    "from gensim.utils import simple_preprocess\n",
    "pd.set_option('display.max_columns', None)\n",
    "pd.set_option('display.max_colwidth', None)"
   ]
  },
  {
   "cell_type": "code",
   "execution_count": 2,
   "id": "a53a9ca6",
   "metadata": {},
   "outputs": [
    {
     "data": {
      "text/plain": [
       "(1132367, 5)"
      ]
     },
     "execution_count": 2,
     "metadata": {},
     "output_type": "execute_result"
    }
   ],
   "source": [
    "#Loading the dataset of food recipe reviews\n",
    "fd = pd.read_csv(\"RAW_interactions.csv\")\n",
    "#how many examples present in the dataset of food reviews\n",
    "fd.shape"
   ]
  },
  {
   "cell_type": "code",
   "execution_count": 8,
   "id": "d6bd3c0a",
   "metadata": {},
   "outputs": [
    {
     "data": {
      "text/html": [
       "<div>\n",
       "<style scoped>\n",
       "    .dataframe tbody tr th:only-of-type {\n",
       "        vertical-align: middle;\n",
       "    }\n",
       "\n",
       "    .dataframe tbody tr th {\n",
       "        vertical-align: top;\n",
       "    }\n",
       "\n",
       "    .dataframe thead th {\n",
       "        text-align: right;\n",
       "    }\n",
       "</style>\n",
       "<table border=\"1\" class=\"dataframe\">\n",
       "  <thead>\n",
       "    <tr style=\"text-align: right;\">\n",
       "      <th></th>\n",
       "      <th>user_id</th>\n",
       "      <th>recipe_id</th>\n",
       "      <th>date</th>\n",
       "      <th>rating</th>\n",
       "      <th>review</th>\n",
       "    </tr>\n",
       "  </thead>\n",
       "  <tbody>\n",
       "    <tr>\n",
       "      <th>0</th>\n",
       "      <td>38094</td>\n",
       "      <td>40893</td>\n",
       "      <td>2003-02-17</td>\n",
       "      <td>4</td>\n",
       "      <td>Great with a salad. Cooked on top of stove for 15 minutes.Added a shake of cayenne and a pinch of salt.  Used low fat sour cream.  Thanks.</td>\n",
       "    </tr>\n",
       "    <tr>\n",
       "      <th>1</th>\n",
       "      <td>1293707</td>\n",
       "      <td>40893</td>\n",
       "      <td>2011-12-21</td>\n",
       "      <td>5</td>\n",
       "      <td>So simple, so delicious! Great for chilly fall evening. Should have doubled it ;)&lt;br/&gt;&lt;br/&gt;Second time around, forgot the remaining cumin. We usually love cumin, but didn't notice the missing 1/2 teaspoon!</td>\n",
       "    </tr>\n",
       "    <tr>\n",
       "      <th>2</th>\n",
       "      <td>8937</td>\n",
       "      <td>44394</td>\n",
       "      <td>2002-12-01</td>\n",
       "      <td>4</td>\n",
       "      <td>This worked very well and is EASY.  I used not quite a whole package (10oz) of white chips.  Great!</td>\n",
       "    </tr>\n",
       "    <tr>\n",
       "      <th>3</th>\n",
       "      <td>126440</td>\n",
       "      <td>85009</td>\n",
       "      <td>2010-02-27</td>\n",
       "      <td>5</td>\n",
       "      <td>I made the Mexican topping and took it to bunko.  Everyone loved it.</td>\n",
       "    </tr>\n",
       "    <tr>\n",
       "      <th>4</th>\n",
       "      <td>57222</td>\n",
       "      <td>85009</td>\n",
       "      <td>2011-10-01</td>\n",
       "      <td>5</td>\n",
       "      <td>Made the cheddar bacon topping, adding a sprinkling of black pepper. Yum!</td>\n",
       "    </tr>\n",
       "  </tbody>\n",
       "</table>\n",
       "</div>"
      ],
      "text/plain": [
       "   user_id  recipe_id        date  rating  \\\n",
       "0    38094      40893  2003-02-17       4   \n",
       "1  1293707      40893  2011-12-21       5   \n",
       "2     8937      44394  2002-12-01       4   \n",
       "3   126440      85009  2010-02-27       5   \n",
       "4    57222      85009  2011-10-01       5   \n",
       "\n",
       "                                                                                                                                                                                                          review  \n",
       "0                                                                     Great with a salad. Cooked on top of stove for 15 minutes.Added a shake of cayenne and a pinch of salt.  Used low fat sour cream.  Thanks.  \n",
       "1  So simple, so delicious! Great for chilly fall evening. Should have doubled it ;)<br/><br/>Second time around, forgot the remaining cumin. We usually love cumin, but didn't notice the missing 1/2 teaspoon!  \n",
       "2                                                                                                            This worked very well and is EASY.  I used not quite a whole package (10oz) of white chips.  Great!  \n",
       "3                                                                                                                                           I made the Mexican topping and took it to bunko.  Everyone loved it.  \n",
       "4                                                                                                                                      Made the cheddar bacon topping, adding a sprinkling of black pepper. Yum!  "
      ]
     },
     "execution_count": 8,
     "metadata": {},
     "output_type": "execute_result"
    }
   ],
   "source": [
    "#Viewing Dataset format\n",
    "fd.head()"
   ]
  },
  {
   "cell_type": "code",
   "execution_count": 3,
   "id": "7352ad9c",
   "metadata": {},
   "outputs": [],
   "source": [
    "#looking for null values in the dataset\n",
    "fd.isnull()\n",
    "#Since that a rating \"0\" means that the user hasn’t tried the recipe, I deleted that rating.\n",
    "fd = fd[fd.rating != 0]"
   ]
  },
  {
   "cell_type": "code",
   "execution_count": 47,
   "id": "99a927e5",
   "metadata": {},
   "outputs": [
    {
     "data": {
      "text/plain": [
       "(1071520, 5)"
      ]
     },
     "execution_count": 47,
     "metadata": {},
     "output_type": "execute_result"
    }
   ],
   "source": [
    "#Total examples\n",
    "fd.shape"
   ]
  },
  {
   "cell_type": "code",
   "execution_count": 45,
   "id": "5373c1bc",
   "metadata": {},
   "outputs": [
    {
     "data": {
      "image/png": "[encoded data removed]",
      "text/plain": [
       "<Figure size 1080x576 with 1 Axes>"
      ]
     },
     "metadata": {},
     "output_type": "display_data"
    }
   ],
   "source": [
    "#plotting total ratings\n",
    "sns.set(rc = {'figure.figsize':(15,8)})\n",
    "ax = sns.countplot(x=\"rating\", data=fd)"
   ]
  },
  {
   "cell_type": "code",
   "execution_count": 9,
   "id": "a1fc4c7d",
   "metadata": {},
   "outputs": [],
   "source": [
    "#pre-proccessing the dataset\n",
    "rr = pd.DataFrame(fd,columns=['rating','review'])\n",
    "# Here we will be replacing rating numbers with the words for fastext\n",
    "rr['rating']=rr['rating'].replace({1 :'Terrible',2:'bad',3:'Neutral',4:'Good',5:'Excellent'})\n",
    "#droping null values from the dataset\n",
    "rr.dropna(subset = [\"rating\"], inplace=True)\n",
    "rr.dropna(subset = [\"review\"], inplace=True)\n",
    "rr.to_csv('rat.csv')"
   ]
  },
  {
   "cell_type": "code",
   "execution_count": 10,
   "id": "f7bcaafa",
   "metadata": {},
   "outputs": [],
   "source": [
    "# Importing the dataset and labelling the dataset for fasttext recognization \n",
    "dataset = pd.read_csv('rat.csv')[['review', 'rating']].rename(columns = {'review': 'reviews', 'rating': 'ratings'})\n",
    "#ds = pd.read_csv('valid.csv')[['Body', 'Y']].rename(columns = {'Body': 'questions', 'Y': 'category'})\n",
    "\n",
    "# NLP Preprocess\n",
    "dataset.iloc[:, 0] = dataset.iloc[:, 0].apply(lambda x: ' '.join(simple_preprocess(x)))\n",
    "#ds.iloc[:, 0] = ds.iloc[:, 0].apply(lambda x: ' '.join(simple_preprocess(x)))\n",
    "\n",
    "# Prefixing each row of the category column with '__label__'\n",
    "dataset.iloc[:, 1] = dataset.iloc[:, 1].apply(lambda x: '__label__' + str(x))"
   ]
  },
  {
   "cell_type": "code",
   "execution_count": 11,
   "id": "dbe21b97",
   "metadata": {},
   "outputs": [],
   "source": [
    "dataset[['ratings', 'reviews']].to_csv('F_Reviews.txt', \n",
    "                                          index = False, \n",
    "                                          sep = ' ',\n",
    "                                          header = None, \n",
    "                                          quoting = csv.QUOTE_NONE, \n",
    "                                          quotechar = \"\", \n",
    "                                          escapechar = \" \")"
   ]
  },
  {
   "cell_type": "code",
   "execution_count": 12,
   "id": "990fc6be",
   "metadata": {
    "scrolled": true
   },
   "outputs": [
    {
     "name": "stdout",
     "output_type": "stream",
     "text": [
      "__label__Good great  with  salad  cooked  on  top  of  stove  for  minutes  added  shake  of  cayenne  and  pinch  of  salt  used  low  fat  sour  cream  thanks\n",
      "__label__Excellent so  simple  so  delicious  great  for  chilly  fall  evening  should  have  doubled  it  br  br  second  time  around  forgot  the  remaining  cumin  we  usually  love  cumin  but  didn  notice  the  missing  teaspoon\n",
      "__label__Good this  worked  very  well  and  is  easy  used  not  quite  whole  package  oz  of  white  chips  great\n",
      "__label__Excellent made  the  mexican  topping  and  took  it  to  bunko  everyone  loved  it\n",
      "__label__Excellent made  the  cheddar  bacon  topping  adding  sprinkling  of  black  pepper  yum\n",
      "__label__Good very  very  sweet  after  waited  the  days  bought  more  pints  of  raspberries  and  added  them  to  the  mix  going  to  add  some  as  cake  filling  today  and  will  take  photo\n",
      "__label__bad this  recipe  was  overly  too  sweet  would  start  out  with  or  cup  of  sugar  and  jsut  add  on  from  there  just  cups  was  way  too  much  and  had  to  go  back  to  the  grocery  store  to  buy  more  raspberries  because  it  made  so  much  mix  overall  would  but  the  long  narrow  box  or  raspberries  its  perfect  fit  for  the  recipe  plus  little  extra  was  not  impressed  with  this  recipe  it  was  exceptionally  over  sweet  if  you  make  this  simple  recipe  make  sure  to  add  less  sugar\n",
      "__label__Good very  good\n",
      "__label__Excellent better  than  the  real\n",
      "__label__Excellent absolutely  awesome  was  speechless  when  tried  them  ve  never  had  such  juicy  melt  in  your  mouth  chicken  made  at  home  would  however  suggest  to  reduce  the  amount  of  flour  cups  was  overkill  for  me\n"
     ]
    }
   ],
   "source": [
    "!head F_Reviews.txt"
   ]
  },
  {
   "cell_type": "code",
   "execution_count": 50,
   "id": "887d0f0c",
   "metadata": {},
   "outputs": [],
   "source": [
    "#Now we will be applying fasttext to the Food review dataset\n",
    "!head -n 932367 F_Reviews.txt > Food.train\n",
    "!tail -n 200000 F_Reviews.txt > Food.valid"
   ]
  },
  {
   "cell_type": "code",
   "execution_count": 51,
   "id": "39cd990b",
   "metadata": {},
   "outputs": [],
   "source": [
    "#Training the data with fasttext\n",
    "mo = fasttext.train_supervised(input=\"Food.train\")"
   ]
  },
  {
   "cell_type": "code",
   "execution_count": 52,
   "id": "eaa54d94",
   "metadata": {},
   "outputs": [],
   "source": [
    "mo.save_model(\"model_Food.bin\")"
   ]
  },
  {
   "cell_type": "code",
   "execution_count": 16,
   "id": "2b073152",
   "metadata": {},
   "outputs": [
    {
     "data": {
      "text/plain": [
       "(('__label__Excellent',), array([0.5941956]))"
      ]
     },
     "execution_count": 16,
     "metadata": {},
     "output_type": "execute_result"
    }
   ],
   "source": [
    "#Predicting the tags for the review\n",
    "mo.predict(\"Great with a salad. Cooked on top of stove for 15 minutes.Added a shake of cayenne and a pinch of salt. Used low fat sour cream. Thanks.\")"
   ]
  },
  {
   "cell_type": "code",
   "execution_count": 20,
   "id": "28c20fb6",
   "metadata": {},
   "outputs": [
    {
     "data": {
      "text/plain": [
       "(200000, 0.80601, 0.80601)"
      ]
     },
     "execution_count": 20,
     "metadata": {},
     "output_type": "execute_result"
    }
   ],
   "source": [
    "mo.test(\"Food.valid\")"
   ]
  },
  {
   "cell_type": "code",
   "execution_count": 21,
   "id": "5f1c267b",
   "metadata": {},
   "outputs": [
    {
     "data": {
      "text/plain": [
       "(200000, 0.2, 1.0)"
      ]
     },
     "execution_count": 21,
     "metadata": {},
     "output_type": "execute_result"
    }
   ],
   "source": [
    "mo.test(\"Food.valid\", k=5)"
   ]
  },
  {
   "cell_type": "code",
   "execution_count": 22,
   "id": "f14a1f39",
   "metadata": {},
   "outputs": [],
   "source": [
    "#Pre-processing the dataset\n",
    "!cat F_Reviews.txt | sed -e \"s/\\([.\\!?,'/()]\\)/ \\1 /g\" | tr \"[:upper:]\" \"[:lower:]\" > F_Reviews.preprocessed.txt\n",
    "!head -n 932367 F_Reviews.preprocessed.txt > Food_Pre.train\n",
    "!tail -n 200000 F_Reviews.preprocessed.txt > Food_Pre.valid"
   ]
  },
  {
   "cell_type": "code",
   "execution_count": 23,
   "id": "3b6a0abc",
   "metadata": {},
   "outputs": [
    {
     "data": {
      "text/plain": [
       "(200000, 0.805955, 0.805955)"
      ]
     },
     "execution_count": 23,
     "metadata": {},
     "output_type": "execute_result"
    }
   ],
   "source": [
    "mod = fasttext.train_supervised(input=\"Food_Pre.train\")\n",
    "mod.test(\"Food_Pre.valid\")"
   ]
  },
  {
   "cell_type": "code",
   "execution_count": 24,
   "id": "9974e625",
   "metadata": {},
   "outputs": [
    {
     "data": {
      "text/plain": [
       "(200000, 0.808045, 0.808045)"
      ]
     },
     "execution_count": 24,
     "metadata": {},
     "output_type": "execute_result"
    }
   ],
   "source": [
    "#Adding epos\n",
    "mode = fasttext.train_supervised(input=\"Food_Pre.train\", epoch=25)\n",
    "mode.test(\"Food_Pre.valid\")"
   ]
  },
  {
   "cell_type": "code",
   "execution_count": 25,
   "id": "56879dc6",
   "metadata": {},
   "outputs": [
    {
     "data": {
      "text/plain": [
       "(200000, 0.80695, 0.80695)"
      ]
     },
     "execution_count": 25,
     "metadata": {},
     "output_type": "execute_result"
    }
   ],
   "source": [
    "#Applying learning rate curve to data\n",
    "model = fasttext.train_supervised(input=\"Food_Pre.train\", lr=1.0)\n",
    "model.test(\"Food_Pre.valid\")"
   ]
  },
  {
   "cell_type": "code",
   "execution_count": 18,
   "id": "30d8c6a2",
   "metadata": {},
   "outputs": [
    {
     "data": {
      "text/plain": [
       "(3000, 0.751, 0.751)"
      ]
     },
     "execution_count": 18,
     "metadata": {},
     "output_type": "execute_result"
    }
   ],
   "source": [
    "#Applying both lr and epoch\n",
    "model1 = fasttext.train_supervised(input=\"Food_Pre.train\", lr=1.0, epoch=25)\n",
    "model1.test(\"Food_Pre.valid\")"
   ]
  },
  {
   "cell_type": "code",
   "execution_count": 44,
   "id": "57ff84ba",
   "metadata": {},
   "outputs": [
    {
     "name": "stdout",
     "output_type": "stream",
     "text": [
      "Wall time: 3min 35s\n"
     ]
    }
   ],
   "source": [
    "#Adding word-n-grams\n",
    "%%time\n",
    "model2 = fasttext.train_supervised(input=\"Food_Pre.train\", lr=1.0, epoch=25, wordNgrams=2)"
   ]
  },
  {
   "cell_type": "code",
   "execution_count": 48,
   "id": "fa9f5f47",
   "metadata": {},
   "outputs": [
    {
     "data": {
      "text/plain": [
       "(200000, 0.833455, 0.833455)"
      ]
     },
     "execution_count": 48,
     "metadata": {},
     "output_type": "execute_result"
    }
   ],
   "source": [
    "model2.test(\"Food_Pre.valid\")"
   ]
  },
  {
   "cell_type": "code",
   "execution_count": 20,
   "id": "0505147e",
   "metadata": {},
   "outputs": [
    {
     "data": {
      "text/plain": [
       "(('__label__excellent',), array([0.99803042]))"
      ]
     },
     "execution_count": 20,
     "metadata": {},
     "output_type": "execute_result"
    }
   ],
   "source": [
    "model2.predict(\"I made the Mexican topping and took it to bunko. Everyone loved it.\")"
   ]
  },
  {
   "cell_type": "code",
   "execution_count": 27,
   "id": "ac82a46b",
   "metadata": {},
   "outputs": [
    {
     "name": "stdout",
     "output_type": "stream",
     "text": [
      "Wall time: 2min 13s\n"
     ]
    }
   ],
   "source": [
    "#Here we will be using hierarchical softmax function\n",
    "%%time\n",
    "model2 = fasttext.train_supervised(input=\"Food_Pre.train\", \n",
    "        lr=1.0, epoch=25, wordNgrams=2, bucket=200000, dim=50, loss='hs')"
   ]
  },
  {
   "cell_type": "code",
   "execution_count": 49,
   "id": "29159e54",
   "metadata": {},
   "outputs": [
    {
     "data": {
      "text/plain": [
       "(('__label__neutral',), array([0.94335759]))"
      ]
     },
     "execution_count": 49,
     "metadata": {},
     "output_type": "execute_result"
    }
   ],
   "source": [
    "#Applying multi-label\n",
    "model3 = fasttext.train_supervised(input=\"Food_Pre.train\", lr=0.5, epoch=25, wordNgrams=2, bucket=200000, dim=50, loss='ova')\n",
    "model3.test(\"Food_Pre.valid\")\n",
    "model3.predict(\"This worked very well and is EASY. I used not quite a whole package (10oz) of white chips. Great!\")"
   ]
  },
  {
   "cell_type": "code",
   "execution_count": null,
   "id": "75c12eee",
   "metadata": {},
   "outputs": [],
   "source": []
  }
 ],
 "metadata": {
  "kernelspec": {
   "display_name": "Python 3",
   "language": "python",
   "name": "python3"
  },
  "language_info": {
   "codemirror_mode": {
    "name": "ipython",
    "version": 3
   },
   "file_extension": ".py",
   "mimetype": "text/x-python",
   "name": "python",
   "nbconvert_exporter": "python",
   "pygments_lexer": "ipython3",
   "version": "3.8.8"
  }
 },
 "nbformat": 4,
 "nbformat_minor": 5
}
